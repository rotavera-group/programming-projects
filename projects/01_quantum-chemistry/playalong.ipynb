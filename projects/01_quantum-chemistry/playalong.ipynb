{
 "cells": [
  {
   "cell_type": "code",
   "execution_count": 18,
   "metadata": {},
   "outputs": [
    {
     "name": "stdout",
     "output_type": "stream",
     "text": [
      "Hartree Per Molecule:  -6.730613783431135\n",
      "Hartree Per Molecule:  -0.004727662168864555\n",
      "KiloCals Per Mole:  -2.96665280113205\n",
      "KiloJoules Per Mole:  -12.412475319936497\n",
      "symbols=['C', 'C', 'H', 'H', 'H', 'H', 'H'] coordinates=array([[-1.3407613 , -0.00913658,  0.15069787],\n",
      "       [ 1.43638501,  0.01369316,  0.03950438],\n",
      "       [-2.1368368 ,  1.67851642, -0.72081494],\n",
      "       [-2.01764501, -0.04570252,  2.11447686],\n",
      "       [-2.11093384, -1.68224442, -0.77142311],\n",
      "       [ 2.45606698,  1.76309606,  0.10884137],\n",
      "       [ 2.48276423, -1.71892593,  0.11194149]]) charge=0 spin=1\n"
     ]
    },
    {
     "data": {
      "application/3dmoljs_load.v0": "<div id=\"3dmolviewer_17389609803128989\"  style=\"position: relative; width: 600px; height: 450px;\">\n        <p id=\"3dmolwarning_17389609803128989\" style=\"background-color:#ffcccc;color:black\">3Dmol.js failed to load for some reason.  Please check your browser console for error messages.<br></p>\n        </div>\n<script>\n\nvar loadScriptAsync = function(uri){\n  return new Promise((resolve, reject) => {\n    //this is to ignore the existence of requirejs amd\n    var savedexports, savedmodule;\n    if (typeof exports !== 'undefined') savedexports = exports;\n    else exports = {}\n    if (typeof module !== 'undefined') savedmodule = module;\n    else module = {}\n\n    var tag = document.createElement('script');\n    tag.src = uri;\n    tag.async = true;\n    tag.onload = () => {\n        exports = savedexports;\n        module = savedmodule;\n        resolve();\n    };\n  var firstScriptTag = document.getElementsByTagName('script')[0];\n  firstScriptTag.parentNode.insertBefore(tag, firstScriptTag);\n});\n};\n\nif(typeof $3Dmolpromise === 'undefined') {\n$3Dmolpromise = null;\n  $3Dmolpromise = loadScriptAsync('https://cdnjs.cloudflare.com/ajax/libs/3Dmol/2.4.2/3Dmol-min.js');\n}\n\nvar viewer_17389609803128989 = null;\nvar warn = document.getElementById(\"3dmolwarning_17389609803128989\");\nif(warn) {\n    warn.parentNode.removeChild(warn);\n}\n$3Dmolpromise.then(function() {\nviewer_17389609803128989 = $3Dmol.createViewer(document.getElementById(\"3dmolviewer_17389609803128989\"),{backgroundColor:\"white\"});\nviewer_17389609803128989.zoomTo();\n\tviewer_17389609803128989.addModel(\"7\\n\\nC  -0.709500  -0.004835   0.079746\\nC   0.760102   0.007246   0.020905\\nH  -1.130765   0.888233  -0.381439\\nH  -1.067692  -0.024185   1.118933\\nH  -1.117058  -0.890205  -0.408220\\nH   1.299695   0.932990   0.057596\\nH   1.313822  -0.909616   0.059237\",\"xyz\");\n\tviewer_17389609803128989.setStyle({\"stick\": {}, \"sphere\": {\"scale\": 0.3}});\n\tviewer_17389609803128989.zoomTo();\nviewer_17389609803128989.render();\n});\n</script>",
      "text/html": [
       "<div id=\"3dmolviewer_17389609803128989\"  style=\"position: relative; width: 600px; height: 450px;\">\n",
       "        <p id=\"3dmolwarning_17389609803128989\" style=\"background-color:#ffcccc;color:black\">3Dmol.js failed to load for some reason.  Please check your browser console for error messages.<br></p>\n",
       "        </div>\n",
       "<script>\n",
       "\n",
       "var loadScriptAsync = function(uri){\n",
       "  return new Promise((resolve, reject) => {\n",
       "    //this is to ignore the existence of requirejs amd\n",
       "    var savedexports, savedmodule;\n",
       "    if (typeof exports !== 'undefined') savedexports = exports;\n",
       "    else exports = {}\n",
       "    if (typeof module !== 'undefined') savedmodule = module;\n",
       "    else module = {}\n",
       "\n",
       "    var tag = document.createElement('script');\n",
       "    tag.src = uri;\n",
       "    tag.async = true;\n",
       "    tag.onload = () => {\n",
       "        exports = savedexports;\n",
       "        module = savedmodule;\n",
       "        resolve();\n",
       "    };\n",
       "  var firstScriptTag = document.getElementsByTagName('script')[0];\n",
       "  firstScriptTag.parentNode.insertBefore(tag, firstScriptTag);\n",
       "});\n",
       "};\n",
       "\n",
       "if(typeof $3Dmolpromise === 'undefined') {\n",
       "$3Dmolpromise = null;\n",
       "  $3Dmolpromise = loadScriptAsync('https://cdnjs.cloudflare.com/ajax/libs/3Dmol/2.4.2/3Dmol-min.js');\n",
       "}\n",
       "\n",
       "var viewer_17389609803128989 = null;\n",
       "var warn = document.getElementById(\"3dmolwarning_17389609803128989\");\n",
       "if(warn) {\n",
       "    warn.parentNode.removeChild(warn);\n",
       "}\n",
       "$3Dmolpromise.then(function() {\n",
       "viewer_17389609803128989 = $3Dmol.createViewer(document.getElementById(\"3dmolviewer_17389609803128989\"),{backgroundColor:\"white\"});\n",
       "viewer_17389609803128989.zoomTo();\n",
       "\tviewer_17389609803128989.addModel(\"7\\n\\nC  -0.709500  -0.004835   0.079746\\nC   0.760102   0.007246   0.020905\\nH  -1.130765   0.888233  -0.381439\\nH  -1.067692  -0.024185   1.118933\\nH  -1.117058  -0.890205  -0.408220\\nH   1.299695   0.932990   0.057596\\nH   1.313822  -0.909616   0.059237\",\"xyz\");\n",
       "\tviewer_17389609803128989.setStyle({\"stick\": {}, \"sphere\": {\"scale\": 0.3}});\n",
       "\tviewer_17389609803128989.zoomTo();\n",
       "viewer_17389609803128989.render();\n",
       "});\n",
       "</script>"
      ]
     },
     "metadata": {},
     "output_type": "display_data"
    }
   ],
   "source": [
    "from protomol import smiles, qc, geom\n",
    "import qcio, qcop\n",
    "from pint import Quantity\n",
    "\n",
    "smi = \"C[CH2]\"\n",
    "geo = smiles.geometry(smi)\n",
    "struc = qc.struc.from_geometry(geo)\n",
    "\n",
    "input = qcio.ProgramInput(\n",
    "    structure = struc, calctype = \"energy\", model = {\"method\":\"gfn2\"})\n",
    "output = qcop.compute(\"crest\", input)\n",
    "energy = output.results.energy\n",
    "print(\"Hartree Per Molecule: \",energy)\n",
    "\n",
    "input_optimized = qcio.ProgramInput(\n",
    "    structure = struc, calctype = \"optimization\", model = {\"method\":\"gfn2\"})\n",
    "output_optimized = qcop.compute(\"crest\", input_optimized)\n",
    "energy_optimized = output_optimized.results.final_energy\n",
    "print(\"Hartree Per Molecule: \",energy_optimized-energy)\n",
    "\n",
    "to_kcal = Quantity(\"hartree/molecule\").m_as(\"kcal/mol\")\n",
    "to_kj = Quantity(\"hartree/molecule\").m_as(\"kJ/mol\")\n",
    "print(\"KiloCals Per Mole: \", (energy_optimized-energy)*to_kcal)\n",
    "print(\"KiloJoules Per Mole: \", (energy_optimized-energy)*to_kj)\n",
    "\n",
    "structure_optimized = output_optimized.results.final_structure\n",
    "geo_optimized = qc.struc.geometry(structure_optimized)\n",
    "print(geo_optimized)\n",
    "geom.display(geo_optimized)\n"
   ]
  }
 ],
 "metadata": {
  "kernelspec": {
   "display_name": "default",
   "language": "python",
   "name": "python3"
  },
  "language_info": {
   "codemirror_mode": {
    "name": "ipython",
    "version": 3
   },
   "file_extension": ".py",
   "mimetype": "text/x-python",
   "name": "python",
   "nbconvert_exporter": "python",
   "pygments_lexer": "ipython3",
   "version": "3.11.11"
  }
 },
 "nbformat": 4,
 "nbformat_minor": 2
}
